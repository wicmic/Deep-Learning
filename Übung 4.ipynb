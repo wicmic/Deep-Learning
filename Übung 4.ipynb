{
 "cells": [
  {
   "cell_type": "markdown",
   "source": [
    "# Convnet from Scratch\n",
    "In diesem Notebook erstellen wir ein convolutional neural network von der Grundbasis aus auf einem kleinen Datasatz.\n",
    "In diesem Beispiel nutzen wir den Datensatz von Katzen und Hunden von Kaggle https://www.kaggle.com/competitions/dogs-vs-cats/data.\n",
    "Bitte ladet euch den Training Datensatz herunter."
   ],
   "metadata": {
    "collapsed": false
   }
  },
  {
   "cell_type": "markdown",
   "source": [
    "## Loading Packages"
   ],
   "metadata": {
    "collapsed": false
   }
  },
  {
   "cell_type": "code",
   "execution_count": 1,
   "metadata": {
    "collapsed": true
   },
   "outputs": [
    {
     "data": {
      "text/plain": "'module://matplotlib_inline.backend_inline'"
     },
     "execution_count": 1,
     "metadata": {},
     "output_type": "execute_result"
    }
   ],
   "source": [
    "import os, shutil\n",
    "\n",
    "import pandas as pd\n",
    "import numpy as np\n",
    "import os\n",
    "import tensorflow as tf\n",
    "from tensorflow import keras\n",
    "\n",
    "import matplotlib\n",
    "import matplotlib.pyplot as plt # plotting library\n",
    "%matplotlib inline\n",
    "matplotlib.get_backend()"
   ]
  },
  {
   "cell_type": "markdown",
   "source": [
    "## Data Preparation"
   ],
   "metadata": {
    "collapsed": false
   }
  },
  {
   "cell_type": "code",
   "execution_count": 2,
   "outputs": [],
   "source": [
    "original_dataset_dir = r'C:\\Users\\michi\\OneDrive\\MSC DV\\Python\\Deep Learning\\dogs-vs-cats\\train'\n",
    "\n",
    "base_dir = r'C:\\Users\\michi\\OneDrive\\MSC DV\\Python\\Deep Learning\\cats_dogs_small'\n",
    "#os.mkdir(base_dir)\n",
    "\n",
    "train_dir = os.path.join(base_dir, 'train')\n",
    "#os.mkdir(train_dir)\n",
    "validation_dir = os.path.join(base_dir, 'validation')\n",
    "#os.mkdir(validation_dir)\n",
    "test_dir = os.path.join(base_dir, 'test')\n",
    "#os.mkdir(test_dir)\n",
    "\n",
    "train_cats_dir = os.path.join(train_dir, 'cats')\n",
    "#os.mkdir(train_cats_dir)\n",
    "train_dogs_dir = os.path.join(train_dir, 'dogs')\n",
    "#os.mkdir(train_dogs_dir)\n",
    "\n",
    "validation_cats_dir = os.path.join(validation_dir, 'cats')\n",
    "#os.mkdir(validation_cats_dir)\n",
    "validation_dogs_dir = os.path.join(validation_dir, 'dogs')\n",
    "#os.mkdir(validation_dogs_dir)\n",
    "\n",
    "test_cats_dir = os.path.join(test_dir, 'cats')\n",
    "#os.mkdir(test_cats_dir)\n",
    "test_dogs_dir = os.path.join(test_dir, 'dogs')\n",
    "#os.mkdir(test_dogs_dir)\n",
    "\n",
    "fnames = ['cat.{}.jpg'.format(i) for i in range(1000)]\n",
    "for fname in fnames:\n",
    "    src = os.path.join(original_dataset_dir, fname)\n",
    "    dst = os.path.join(train_cats_dir, fname)\n",
    "    shutil.copyfile(src, dst)\n",
    "\n",
    "fnames = ['cat.{}.jpg'.format(i) for i in range(1000,1500)]\n",
    "for fname in fnames:\n",
    "    src = os.path.join(original_dataset_dir, fname)\n",
    "    dst = os.path.join(validation_cats_dir, fname)\n",
    "    shutil.copyfile(src, dst)\n",
    "\n",
    "fnames = ['cat.{}.jpg'.format(i) for i in range(1500,2000)]\n",
    "for fname in fnames:\n",
    "    src = os.path.join(original_dataset_dir, fname)\n",
    "    dst = os.path.join(test_cats_dir, fname)\n",
    "    shutil.copyfile(src, dst)\n",
    "\n",
    "\n",
    "fnames = ['dog.{}.jpg'.format(i) for i in range(1000)]\n",
    "for fname in fnames:\n",
    "    src = os.path.join(original_dataset_dir,fname)\n",
    "    dst = os.path.join(train_dogs_dir, fname)\n",
    "    shutil.copyfile(src,dst)\n",
    "\n",
    "fnames = ['dog.{}.jpg'.format(i) for i in range(1000, 1500)]\n",
    "for fname in fnames:\n",
    "    src = os.path.join(original_dataset_dir,fname)\n",
    "    dst = os.path.join(validation_dogs_dir, fname)\n",
    "    shutil.copyfile(src,dst)\n",
    "\n",
    "fnames = ['dog.{}.jpg'.format(i) for i in range(1500, 2000)]\n",
    "for fname in fnames:\n",
    "    src = os.path.join(original_dataset_dir,fname)\n",
    "    dst = os.path.join(test_dogs_dir, fname)\n",
    "    shutil.copyfile(src,dst)\n"
   ],
   "metadata": {
    "collapsed": false
   }
  },
  {
   "cell_type": "markdown",
   "source": [
    "## Control of the data"
   ],
   "metadata": {
    "collapsed": false
   }
  },
  {
   "cell_type": "code",
   "execution_count": 3,
   "outputs": [
    {
     "name": "stdout",
     "output_type": "stream",
     "text": [
      "total training cat images: 1000\n",
      "total training dogs images: 1000\n",
      "total validation cat images: 500\n",
      "total validation dogs images: 500\n",
      "total test cat images: 500\n",
      "total test dogs images: 500\n"
     ]
    }
   ],
   "source": [
    "print('total training cat images:', len(os.listdir(train_cats_dir)))\n",
    "print('total training dogs images:', len(os.listdir(train_cats_dir)))\n",
    "print('total validation cat images:', len(os.listdir(validation_cats_dir)))\n",
    "print('total validation dogs images:', len(os.listdir(validation_dogs_dir)))\n",
    "print('total test cat images:', len(os.listdir(test_cats_dir)))\n",
    "print('total test dogs images:', len(os.listdir(test_dogs_dir)))"
   ],
   "metadata": {
    "collapsed": false
   }
  },
  {
   "cell_type": "markdown",
   "source": [
    "## Data Gathering with Generator\n",
    "To import pictures into python for computer vision, the following steps need to be done:\n",
    "1. Read the picture files\n",
    "2. Decode teh JPEG content to RGB grids of pixels\n",
    "3. Convert these into floating point tensors\n",
    "4. Rescale the pixel values (between 0 and 255) to the [0,1] interval\n",
    "\n",
    "All these step are automated by the `ImageDataGenerator` function in the `keras.preprocessing.image` module."
   ],
   "metadata": {
    "collapsed": false
   }
  },
  {
   "cell_type": "code",
   "execution_count": 4,
   "outputs": [
    {
     "name": "stdout",
     "output_type": "stream",
     "text": [
      "Found 2000 images belonging to 2 classes.\n",
      "Found 1000 images belonging to 2 classes.\n"
     ]
    }
   ],
   "source": [
    "train_datagen = keras.preprocessing.image.ImageDataGenerator(rescale=1./255)\n",
    "test_datagen = keras.preprocessing.image.ImageDataGenerator(rescale=1./255)\n",
    "\n",
    "train_generator = train_datagen.flow_from_directory(\n",
    "    train_dir,\n",
    "    target_size = (150, 150),\n",
    "    batch_size = 20,\n",
    "    class_mode = 'binary'\n",
    ")\n",
    "\n",
    "validation_generator = test_datagen.flow_from_directory(\n",
    "    validation_dir,\n",
    "    target_size = (150,150),\n",
    "    batch_size = 20,\n",
    "    class_mode = 'binary'\n",
    ")"
   ],
   "metadata": {
    "collapsed": false
   }
  },
  {
   "cell_type": "markdown",
   "source": [
    "Look at the output of oune of these generators."
   ],
   "metadata": {
    "collapsed": false
   }
  },
  {
   "cell_type": "code",
   "execution_count": 5,
   "outputs": [
    {
     "name": "stdout",
     "output_type": "stream",
     "text": [
      "data_batch shape: (20, 150, 150, 3)\n",
      "labels batch shape (20,)\n"
     ]
    }
   ],
   "source": [
    "for data_batch, labels_batch in train_generator:\n",
    "    print('data_batch shape:', data_batch.shape)\n",
    "    print('labels batch shape', labels_batch.shape)\n",
    "    break"
   ],
   "metadata": {
    "collapsed": false
   }
  },
  {
   "cell_type": "markdown",
   "source": [
    "## Modeling (Aufgabe 2)\n",
    "Nun sollen Sie ein Modell für diese Daten bauen."
   ],
   "metadata": {
    "collapsed": false
   }
  },
  {
   "cell_type": "code",
   "execution_count": 0,
   "outputs": [],
   "source": [
    "#Convolutional Layers Max-Pooling\n",
    "model = keras.models.Sequential([\n",
    "    keras.layers.Conv2D(32, (3, 3), activation='relu', input_shape=(150, 150, 3)),\n",
    "    keras.layers.MaxPooling2D((2, 2)),\n",
    "    keras.layers.Conv2D(64, (3, 3), activation='relu'),\n",
    "    keras.layers.MaxPooling2D((2, 2)),\n",
    "    keras.layers.Conv2D(128, (3, 3), activation='relu'),\n",
    "    keras.layers.MaxPooling2D((2, 2)),\n",
    "    keras.layers.Flatten(),\n",
    "    keras.layers.Dense(512, activation='relu'),\n",
    "    keras.layers.Dense(1, activation='sigmoid')])"
   ],
   "metadata": {
    "collapsed": false
   }
  },
  {
   "cell_type": "code",
   "execution_count": 6,
   "outputs": [
    {
     "name": "stdout",
     "output_type": "stream",
     "text": [
      "Model: \"sequential\"\n",
      "_________________________________________________________________\n",
      " Layer (type)                Output Shape              Param #   \n",
      "=================================================================\n",
      " conv2d (Conv2D)             (None, 148, 148, 32)      896       \n",
      "                                                                 \n",
      " max_pooling2d (MaxPooling2D  (None, 74, 74, 32)       0         \n",
      " )                                                               \n",
      "                                                                 \n",
      " conv2d_1 (Conv2D)           (None, 72, 72, 64)        18496     \n",
      "                                                                 \n",
      " max_pooling2d_1 (MaxPooling  (None, 36, 36, 64)       0         \n",
      " 2D)                                                             \n",
      "                                                                 \n",
      " conv2d_2 (Conv2D)           (None, 34, 34, 128)       73856     \n",
      "                                                                 \n",
      " max_pooling2d_2 (MaxPooling  (None, 17, 17, 128)      0         \n",
      " 2D)                                                             \n",
      "                                                                 \n",
      " flatten (Flatten)           (None, 36992)             0         \n",
      "                                                                 \n",
      " dense (Dense)               (None, 512)               18940416  \n",
      "                                                                 \n",
      " dense_1 (Dense)             (None, 1)                 513       \n",
      "                                                                 \n",
      "=================================================================\n",
      "Total params: 19,034,177\n",
      "Trainable params: 19,034,177\n",
      "Non-trainable params: 0\n",
      "_________________________________________________________________\n"
     ]
    }
   ],
   "source": [
    "model.summary()"
   ],
   "metadata": {
    "collapsed": false
   }
  },
  {
   "cell_type": "code",
   "execution_count": 7,
   "outputs": [
    {
     "name": "stdout",
     "output_type": "stream",
     "text": [
      "Epoch 1/10\n",
      "100/100 [==============================] - 40s 390ms/step - loss: 0.7976 - accuracy: 0.5355 - val_loss: 0.6867 - val_accuracy: 0.5510\n",
      "Epoch 2/10\n",
      "100/100 [==============================] - 40s 397ms/step - loss: 0.6686 - accuracy: 0.5985 - val_loss: 0.6178 - val_accuracy: 0.6610\n",
      "Epoch 3/10\n",
      "100/100 [==============================] - 41s 414ms/step - loss: 0.6073 - accuracy: 0.6755 - val_loss: 0.8619 - val_accuracy: 0.5480\n",
      "Epoch 4/10\n",
      "100/100 [==============================] - 40s 404ms/step - loss: 0.5537 - accuracy: 0.7150 - val_loss: 0.5373 - val_accuracy: 0.7100\n",
      "Epoch 5/10\n",
      "100/100 [==============================] - 40s 405ms/step - loss: 0.4878 - accuracy: 0.7695 - val_loss: 0.5299 - val_accuracy: 0.7340\n",
      "Epoch 6/10\n",
      "100/100 [==============================] - 44s 436ms/step - loss: 0.4371 - accuracy: 0.7905 - val_loss: 0.6084 - val_accuracy: 0.7230\n",
      "Epoch 7/10\n",
      "100/100 [==============================] - 41s 407ms/step - loss: 0.3638 - accuracy: 0.8385 - val_loss: 0.5608 - val_accuracy: 0.7300\n",
      "Epoch 8/10\n",
      "100/100 [==============================] - 41s 412ms/step - loss: 0.2910 - accuracy: 0.8760 - val_loss: 0.6136 - val_accuracy: 0.7270\n",
      "Epoch 9/10\n",
      "100/100 [==============================] - 40s 400ms/step - loss: 0.1966 - accuracy: 0.9250 - val_loss: 0.6761 - val_accuracy: 0.7350\n",
      "Epoch 10/10\n",
      "100/100 [==============================] - 36s 365ms/step - loss: 0.1234 - accuracy: 0.9540 - val_loss: 0.8941 - val_accuracy: 0.7080\n"
     ]
    }
   ],
   "source": [
    "model.compile(optimizer='rmsprop',\n",
    "              loss='binary_crossentropy',\n",
    "              metrics=['accuracy'])\n",
    "\n",
    "history = model.fit(\n",
    "    train_generator,\n",
    "    steps_per_epoch=100,\n",
    "    epochs=10,\n",
    "    validation_data=validation_generator,\n",
    "    validation_steps=50)"
   ],
   "metadata": {
    "collapsed": false
   }
  },
  {
   "cell_type": "code",
   "execution_count": 8,
   "outputs": [
    {
     "name": "stdout",
     "output_type": "stream",
     "text": [
      "Found 1000 images belonging to 2 classes.\n",
      "50/50 [==============================] - 4s 72ms/step - loss: 0.9929 - accuracy: 0.6870\n",
      "Test accuracy: 0.6869999766349792\n"
     ]
    }
   ],
   "source": [
    "test_generator = test_datagen.flow_from_directory(\n",
    "    test_dir,\n",
    "    target_size=(150, 150),\n",
    "    batch_size=20,\n",
    "    class_mode='binary')\n",
    "\n",
    "test_loss, test_acc = model.evaluate(test_generator, steps=50)\n",
    "print('Test accuracy:', test_acc)"
   ],
   "metadata": {
    "collapsed": false
   }
  },
  {
   "cell_type": "code",
   "execution_count": 9,
   "outputs": [
    {
     "name": "stdout",
     "output_type": "stream",
     "text": [
      "Epoch 1/10\n",
      "100/100 [==============================] - 42s 419ms/step - loss: 0.0688 - accuracy: 0.9765 - val_loss: 1.0807 - val_accuracy: 0.6980\n",
      "Epoch 2/10\n",
      "100/100 [==============================] - 39s 385ms/step - loss: 0.0740 - accuracy: 0.9790 - val_loss: 1.4307 - val_accuracy: 0.7310\n",
      "Epoch 3/10\n",
      "100/100 [==============================] - 39s 393ms/step - loss: 0.0515 - accuracy: 0.9845 - val_loss: 1.3794 - val_accuracy: 0.7110\n",
      "Epoch 4/10\n",
      "100/100 [==============================] - 39s 388ms/step - loss: 0.0305 - accuracy: 0.9905 - val_loss: 1.7769 - val_accuracy: 0.7170\n",
      "Epoch 5/10\n",
      "100/100 [==============================] - 39s 393ms/step - loss: 0.0423 - accuracy: 0.9870 - val_loss: 1.3664 - val_accuracy: 0.7300\n",
      "Epoch 6/10\n",
      "100/100 [==============================] - 38s 376ms/step - loss: 0.0326 - accuracy: 0.9910 - val_loss: 1.5140 - val_accuracy: 0.7360\n",
      "Epoch 7/10\n",
      "100/100 [==============================] - 38s 382ms/step - loss: 0.0127 - accuracy: 0.9965 - val_loss: 1.8385 - val_accuracy: 0.7230\n",
      "Epoch 8/10\n",
      "100/100 [==============================] - 37s 369ms/step - loss: 0.0318 - accuracy: 0.9895 - val_loss: 1.6472 - val_accuracy: 0.7180\n",
      "Epoch 9/10\n",
      "100/100 [==============================] - 37s 368ms/step - loss: 0.0055 - accuracy: 0.9980 - val_loss: 2.4947 - val_accuracy: 0.6850\n",
      "Epoch 10/10\n",
      "100/100 [==============================] - 38s 379ms/step - loss: 0.0119 - accuracy: 0.9955 - val_loss: 2.1682 - val_accuracy: 0.7290\n"
     ]
    },
    {
     "data": {
      "text/plain": "<Figure size 640x480 with 1 Axes>",
      "image/png": "[encoded data removed]"
     },
     "metadata": {},
     "output_type": "display_data"
    }
   ],
   "source": [
    "#Verlustfunktion\n",
    "history = model.fit(train_generator, steps_per_epoch=100, epochs=10, validation_data=validation_generator, validation_steps=50)\n",
    "\n",
    "plt.plot(history.history['loss'], label='Train Loss')\n",
    "plt.plot(history.history['val_loss'], label='Validation Loss')\n",
    "plt.xlabel('Epoch')\n",
    "plt.ylabel('Loss')\n",
    "plt.legend()\n",
    "plt.show()"
   ],
   "metadata": {
    "collapsed": false
   }
  },
  {
   "cell_type": "code",
   "execution_count": 10,
   "outputs": [
    {
     "data": {
      "text/plain": "<Figure size 640x480 with 1 Axes>",
      "image/png": "[encoded data removed]"
     },
     "metadata": {},
     "output_type": "display_data"
    }
   ],
   "source": [
    "#Metrik\n",
    "plt.plot(history.history['accuracy'], label='Train Accuracy')\n",
    "plt.plot(history.history['val_accuracy'], label='Validation Accuracy')\n",
    "plt.xlabel('Epoch')\n",
    "plt.ylabel('Accuracy')\n",
    "plt.legend()\n",
    "plt.show()"
   ],
   "metadata": {
    "collapsed": false
   }
  },
  {
   "cell_type": "code",
   "execution_count": 11,
   "outputs": [
    {
     "name": "stdout",
     "output_type": "stream",
     "text": [
      "Epoch 1/10\n",
      "100/100 [==============================] - 38s 383ms/step - loss: 0.0221 - accuracy: 0.9950 - val_loss: 2.0662 - val_accuracy: 0.7240\n",
      "Epoch 2/10\n",
      "100/100 [==============================] - 37s 366ms/step - loss: 0.0595 - accuracy: 0.9940 - val_loss: 2.1391 - val_accuracy: 0.7310\n",
      "Epoch 3/10\n",
      "100/100 [==============================] - 36s 363ms/step - loss: 9.0897e-04 - accuracy: 1.0000 - val_loss: 2.8032 - val_accuracy: 0.7170\n",
      "Epoch 4/10\n",
      "100/100 [==============================] - 36s 365ms/step - loss: 0.0124 - accuracy: 0.9960 - val_loss: 2.3802 - val_accuracy: 0.7200\n",
      "Epoch 5/10\n",
      "100/100 [==============================] - 36s 365ms/step - loss: 0.0096 - accuracy: 0.9980 - val_loss: 2.4739 - val_accuracy: 0.7250\n",
      "Epoch 6/10\n",
      "100/100 [==============================] - 36s 363ms/step - loss: 0.0489 - accuracy: 0.9910 - val_loss: 2.2021 - val_accuracy: 0.7120\n",
      "Epoch 7/10\n",
      "100/100 [==============================] - 37s 373ms/step - loss: 4.8995e-04 - accuracy: 1.0000 - val_loss: 2.5496 - val_accuracy: 0.7260\n",
      "Epoch 8/10\n",
      "100/100 [==============================] - 39s 394ms/step - loss: 6.9716e-05 - accuracy: 1.0000 - val_loss: 2.9497 - val_accuracy: 0.7190\n",
      "Epoch 9/10\n",
      "100/100 [==============================] - 37s 374ms/step - loss: 7.7190e-06 - accuracy: 1.0000 - val_loss: 3.0290 - val_accuracy: 0.7270\n",
      "Epoch 10/10\n",
      "100/100 [==============================] - 38s 380ms/step - loss: 3.5971e-06 - accuracy: 1.0000 - val_loss: 3.1639 - val_accuracy: 0.7240\n",
      "50/50 [==============================] - 4s 70ms/step - loss: 3.4140 - accuracy: 0.7080\n",
      "Test Loss: 3.4140360355377197\n",
      "Test Accuracy: 0.7080000042915344\n"
     ]
    }
   ],
   "source": [
    "history = model.fit(train_generator, steps_per_epoch=100, epochs=10, validation_data=validation_generator, validation_steps=50)\n",
    "\n",
    "test_loss, test_accuracy = model.evaluate(test_generator, steps=50)\n",
    "\n",
    "print(\"Test Loss:\", test_loss)\n",
    "print(\"Test Accuracy:\", test_accuracy)"
   ],
   "metadata": {
    "collapsed": false
   }
  },
  {
   "cell_type": "code",
   "execution_count": null,
   "outputs": [],
   "source": [],
   "metadata": {
    "collapsed": false
   }
  }
 ],
 "metadata": {
  "kernelspec": {
   "display_name": "Python 3",
   "language": "python",
   "name": "python3"
  },
  "language_info": {
   "codemirror_mode": {
    "name": "ipython",
    "version": 2
   },
   "file_extension": ".py",
   "mimetype": "text/x-python",
   "name": "python",
   "nbconvert_exporter": "python",
   "pygments_lexer": "ipython2",
   "version": "2.7.6"
  }
 },
 "nbformat": 4,
 "nbformat_minor": 0
}
