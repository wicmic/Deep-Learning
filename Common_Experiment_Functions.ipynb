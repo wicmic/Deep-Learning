{
 "cells": [
  {
   "cell_type": "markdown",
   "source": [
    "Die hier verwendeten Funktonen stammen aus dem LinkedIn Learning Kurs Deep Learning: Model Optimization and Tuning von Kumaran Ponnambalam"
   ],
   "metadata": {
    "collapsed": false
   }
  },
  {
   "cell_type": "markdown",
   "source": [
    "## LOADING PACKAGES"
   ],
   "metadata": {
    "collapsed": false
   }
  },
  {
   "cell_type": "code",
   "execution_count": null,
   "metadata": {
    "collapsed": true
   },
   "outputs": [],
   "source": [
    "import pandas as pd\n",
    "import os\n",
    "import numpy as np\n",
    "\n",
    "import tensorflow as tf\n",
    "from tensorflow import keras\n",
    "\n",
    "from sklearn import preprocessing\n",
    "from sklearn.preprocessing import StandardScaler\n",
    "from sklearn.model_selection import train_test_split"
   ]
  },
  {
   "cell_type": "markdown",
   "source": [
    "## MODEL CONFIGURATION - BASE"
   ],
   "metadata": {
    "collapsed": false
   }
  },
  {
   "cell_type": "code",
   "execution_count": null,
   "outputs": [],
   "source": [
    "#---------------------------------------------------------------------\n",
    "#Function to create the default configuration for the model. This will be overridden as\n",
    "#required during experimentation\n",
    "#---------------------------------------------------------------------\n",
    "def base_model_config():\n",
    "    model_config = {\n",
    "            \"HIDDEN_NODES\" : [32,64],\n",
    "            \"HIDDEN_ACTIVATION\" : \"relu\",\n",
    "            \"OUTPUT_NODES\" : 10,\n",
    "            \"OUTPUT_ACTIVATION\" : \"softmax\",\n",
    "            \"WEIGHTS_INITIALIZER\" : \"random_normal\",\n",
    "            \"BIAS_INITIALIZER\" : \"zeros\",\n",
    "            \"NORMALIZATION\" : \"none\",\n",
    "            \"OPTIMIZER\" : \"rmsprop\",\n",
    "            \"LEARNING_RATE\" : 0.001,\n",
    "            \"REGULARIZER\" : None,\n",
    "            \"DROPOUT_RATE\" : 0.0,\n",
    "            \"EPOCHS\" : 20,\n",
    "            \"BATCH_SIZE\" : 16,\n",
    "            \"VALIDATION_SPLIT\" : 0.2,\n",
    "            \"VERBOSE\" : 0,\n",
    "            \"LOSS_FUNCTION\" : \"categorical_crossentropy\",\n",
    "            \"METRICS\" : [\"accuracy\"]\n",
    "            }\n",
    "    return model_config"
   ],
   "metadata": {
    "collapsed": false
   }
  },
  {
   "cell_type": "markdown",
   "source": [
    "## FUNCTION FOR OPTIMIZER"
   ],
   "metadata": {
    "collapsed": false
   }
  },
  {
   "cell_type": "code",
   "execution_count": null,
   "outputs": [],
   "source": [
    "#---------------------------------------------------------------------\n",
    "# Function to create an optimizer based on the optimizer name and learning rate\n",
    "#---------------------------------------------------------------------\n",
    "def get_optimizer(optimizer_name, learning_rate):\n",
    "    #'sgd','rmsprop','adam','adagrad'\n",
    "    optimizer=None\n",
    "\n",
    "    if optimizer_name == 'adagrad':\n",
    "        optimizer = keras.optimizers.Adagrad(learning_rate=learning_rate)\n",
    "\n",
    "    elif 'rmsprop':\n",
    "        optimizer = keras.optimizers.RMSprop(learning_rate=learning_rate)\n",
    "\n",
    "    elif'adam' :\n",
    "        optimizer = keras.optimizers.Adam(learning_rate=learning_rate)\n",
    "\n",
    "    else :\n",
    "        optimizer = keras.optimizers.SGD(learning_rate=learning_rate)\n",
    "\n",
    "    return optimizer"
   ],
   "metadata": {
    "collapsed": false
   }
  },
  {
   "cell_type": "markdown",
   "source": [
    "## MODEL FUNCTION"
   ],
   "metadata": {
    "collapsed": false
   }
  },
  {
   "cell_type": "code",
   "execution_count": null,
   "outputs": [],
   "source": [
    "def get_model(model_config,X,model_name):\n",
    "    model=tf.keras.models.Sequential(name=model_name)\n",
    "\n",
    "    for layer in range(len(model_config[\"HIDDEN_NODES\"])):\n",
    "\n",
    "        if (layer == 0):\n",
    "            model.add(\n",
    "                    keras.layers.Dense(model_config[\"HIDDEN_NODES\"][layer],\n",
    "                    input_shape=(X.shape[1],),\n",
    "                    name=\"Dense-Layer-\" + str(layer),\n",
    "                    kernel_initializer = model_config[\"WEIGHTS_INITIALIZER\"],\n",
    "                    bias_initializer = model_config[\"BIAS_INITIALIZER\"],\n",
    "                    kernel_regularizer=model_config[\"REGULARIZER\"],\n",
    "                    activation=model_config[\"HIDDEN_ACTIVATION\"]))\n",
    "        else:\n",
    "\n",
    "            if ( model_config[\"NORMALIZATION\"] == \"batch\"):\n",
    "                model.add(keras.layers.BatchNormalization())\n",
    "\n",
    "            if ( model_config[\"DROPOUT_RATE\"] > 0.0 ):\n",
    "                model.add(keras.layers.Dropout(model_config[\"DROPOUT_RATE\"]))\n",
    "\n",
    "            model.add(\n",
    "                    keras.layers.Dense(model_config[\"HIDDEN_NODES\"][layer],\n",
    "                    name=\"Dense-Layer-\" + str(layer),\n",
    "                    kernel_initializer = model_config[\"WEIGHTS_INITIALIZER\"],\n",
    "                    bias_initializer = model_config[\"BIAS_INITIALIZER\"],\n",
    "                    kernel_regularizer=model_config[\"REGULARIZER\"],\n",
    "                    activation=model_config[\"HIDDEN_ACTIVATION\"]))\n",
    "\n",
    "\n",
    "\n",
    "    model.add(keras.layers.Dense(model_config[\"OUTPUT_NODES\"],\n",
    "                    name=\"Output-Layer\",\n",
    "                    activation=model_config[\"OUTPUT_ACTIVATION\"]))\n",
    "\n",
    "    optimizer = get_optimizer( model_config[\"OPTIMIZER\"],\n",
    "                              model_config[\"LEARNING_RATE\"])\n",
    "\n",
    "    model.compile(loss=model_config[\"LOSS_FUNCTION\"],\n",
    "                  optimizer=optimizer,\n",
    "                   metrics=model_config[\"METRICS\"])\n",
    "    return model"
   ],
   "metadata": {
    "collapsed": false
   }
  },
  {
   "cell_type": "markdown",
   "source": [
    "## Function to create model and fit it"
   ],
   "metadata": {
    "collapsed": false
   }
  },
  {
   "cell_type": "code",
   "execution_count": null,
   "outputs": [],
   "source": [
    "#---------------------------------------------------------------------\n",
    "# Function to create a model and fit the model\n",
    "#---------------------------------------------------------------------\n",
    "\n",
    "def create_and_run_model(model_config,X,Y,model_name) :\n",
    "\n",
    "    model = get_model(model_config,X,model_name)\n",
    "\n",
    "    print(\"\\n******************************************************\")\n",
    "    model.summary()\n",
    "\n",
    "    X_train, X_val, Y_train, Y_val =train_test_split(\n",
    "                        X,Y,\n",
    "                        stratify=Y,\n",
    "                        test_size=model_config[\"VALIDATION_SPLIT\"])\n",
    "\n",
    "    history=model.fit(X_train,\n",
    "          Y_train,\n",
    "          batch_size=model_config[\"BATCH_SIZE\"],\n",
    "          epochs=model_config[\"EPOCHS\"],\n",
    "          verbose=model_config[\"VERBOSE\"],\n",
    "          validation_data= (X_val, Y_val))\n",
    "\n",
    "    return history,model"
   ],
   "metadata": {
    "collapsed": false
   }
  },
  {
   "cell_type": "markdown",
   "source": [
    "## SCORE FUNCTION FOR PREDCITION"
   ],
   "metadata": {
    "collapsed": false
   }
  },
  {
   "cell_type": "code",
   "execution_count": null,
   "outputs": [],
   "source": [
    "def get_score(model,X_test,Y_test):\n",
    "     score=model.evaluate(X_test,Y_test, verbose=0)\n",
    "     return score"
   ],
   "metadata": {
    "collapsed": false
   }
  },
  {
   "cell_type": "markdown",
   "source": [
    "## FUNCTION TO PLOT ACCURACY OPTIMIZATION"
   ],
   "metadata": {
    "collapsed": false
   }
  },
  {
   "cell_type": "code",
   "execution_count": null,
   "outputs": [],
   "source": [
    "#---------------------------------------------------------------------\n",
    "#Function to plot a graph based on the results derived\n",
    "#---------------------------------------------------------------------\n",
    "\n",
    "def plot_graph(accuracy_measures, title):\n",
    "\n",
    "    import matplotlib.pyplot as plt\n",
    "\n",
    "    plt.figure(figsize=(15, 8))\n",
    "    for experiment in accuracy_measures.keys():\n",
    "        plt.plot(accuracy_measures[experiment],\n",
    "                 label=experiment,\n",
    "                    linewidth=3)\n",
    "\n",
    "    plt.title(title)\n",
    "    plt.xlabel(\"Epochs\")\n",
    "    plt.ylabel(\"Accuracy\")\n",
    "    plt.legend()\n",
    "    plt.show()"
   ],
   "metadata": {
    "collapsed": false
   }
  },
  {
   "cell_type": "markdown",
   "source": [
    "## REFERENCES\n",
    "Francois Chollet (2018), Deep Learning with Keras, Manning.\n",
    "Kumaran Ponnambalam (2022), Deep Learning: Model Optimization and Tuning, LinkedIn Learning.\n",
    "\n"
   ],
   "metadata": {
    "collapsed": false
   }
  }
 ],
 "metadata": {
  "kernelspec": {
   "display_name": "Python 3",
   "language": "python",
   "name": "python3"
  },
  "language_info": {
   "codemirror_mode": {
    "name": "ipython",
    "version": 2
   },
   "file_extension": ".py",
   "mimetype": "text/x-python",
   "name": "python",
   "nbconvert_exporter": "python",
   "pygments_lexer": "ipython2",
   "version": "2.7.6"
  }
 },
 "nbformat": 4,
 "nbformat_minor": 0
}
