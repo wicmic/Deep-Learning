{
 "cells": [
  {
   "cell_type": "code",
   "execution_count": 9,
   "metadata": {
    "collapsed": true
   },
   "outputs": [
    {
     "data": {
      "text/plain": "'module://matplotlib_inline.backend_inline'"
     },
     "execution_count": 9,
     "metadata": {},
     "output_type": "execute_result"
    }
   ],
   "source": [
    "import numpy as np\n",
    "from keras.models import Sequential\n",
    "from keras.layers import Dense\n",
    "from keras.datasets import boston_housing\n",
    "from sklearn.model_selection import train_test_split\n",
    "from sklearn.preprocessing import StandardScaler\n",
    "from sklearn.metrics import mean_squared_error\n",
    "import matplotlib\n",
    "import matplotlib.pyplot as plt # plotting library\n",
    "import pandas as pd\n",
    "import numpy as np\n",
    "import os\n",
    "import tensorflow as tf\n",
    "from tensorflow import keras\n",
    "\n",
    "import matplotlib\n",
    "import matplotlib.pyplot as plt # plotting library\n",
    "%matplotlib inline\n",
    "matplotlib.get_backend()\n",
    "\n"
   ]
  },
  {
   "cell_type": "code",
   "execution_count": 10,
   "outputs": [],
   "source": [
    "# Laden\n",
    "(x_train, y_train), (x_test, y_test) = boston_housing.load_data()"
   ],
   "metadata": {
    "collapsed": false
   }
  },
  {
   "cell_type": "code",
   "execution_count": 14,
   "outputs": [],
   "source": [
    "# Normalisierung\n",
    "scaler = StandardScaler()\n",
    "x_train = scaler.fit_transform(x_train)\n",
    "x_test = scaler.transform(x_test)"
   ],
   "metadata": {
    "collapsed": false
   }
  },
  {
   "cell_type": "code",
   "execution_count": 14,
   "outputs": [],
   "source": [
    "# Erstellung\n",
    "model = Sequential()"
   ],
   "metadata": {
    "collapsed": false
   }
  },
  {
   "cell_type": "code",
   "execution_count": 15,
   "outputs": [
    {
     "ename": "NameError",
     "evalue": "name 'base_model_config' is not defined",
     "output_type": "error",
     "traceback": [
      "\u001B[1;31m---------------------------------------------------------------------------\u001B[0m",
      "\u001B[1;31mNameError\u001B[0m                                 Traceback (most recent call last)",
      "Cell \u001B[1;32mIn[15], line 7\u001B[0m\n\u001B[0;32m      2\u001B[0m accuracy_measures \u001B[38;5;241m=\u001B[39m {}\n\u001B[0;32m      4\u001B[0m \u001B[38;5;28;01mfor\u001B[39;00m batch_size \u001B[38;5;129;01min\u001B[39;00m \u001B[38;5;28mrange\u001B[39m(\u001B[38;5;241m16\u001B[39m,\u001B[38;5;241m128\u001B[39m,\u001B[38;5;241m16\u001B[39m):\n\u001B[0;32m      5\u001B[0m \n\u001B[0;32m      6\u001B[0m     \u001B[38;5;66;03m#Load default configuration\u001B[39;00m\n\u001B[1;32m----> 7\u001B[0m     model_config \u001B[38;5;241m=\u001B[39m \u001B[43mbase_model_config\u001B[49m()\n\u001B[0;32m      8\u001B[0m     \u001B[38;5;66;03m#Acquire and process input data\u001B[39;00m\n\u001B[0;32m      9\u001B[0m \n\u001B[0;32m     10\u001B[0m     \u001B[38;5;66;03m#set epoch to 100\u001B[39;00m\n\u001B[0;32m     11\u001B[0m     model_config[\u001B[38;5;124m\"\u001B[39m\u001B[38;5;124mEPOCHS\u001B[39m\u001B[38;5;124m\"\u001B[39m]\u001B[38;5;241m=\u001B[39m\u001B[38;5;241m100\u001B[39m\n",
      "\u001B[1;31mNameError\u001B[0m: name 'base_model_config' is not defined"
     ]
    }
   ],
   "source": [
    "#Initialize the measures\n",
    "accuracy_measures = {}\n",
    "\n",
    "for batch_size in range(16,128,16):\n",
    "\n",
    "    #Load default configuration\n",
    "    model_config = base_model_config()\n",
    "    #Acquire and process input data\n",
    "\n",
    "    #set epoch to 100\n",
    "    model_config[\"EPOCHS\"]=100\n",
    "    #Set batch size to experiment value\n",
    "    model_config[\"BATCH_SIZE\"] = batch_size\n",
    "    model_name = \"Batch-Size-\" + str(batch_size)\n",
    "    history, model=create_and_run_model(model_config,x_train,y_train,model_name)\n",
    "\n",
    "    accuracy_measures[model_name] = history.history[\"accuracy\"]"
   ],
   "metadata": {
    "collapsed": false
   }
  },
  {
   "cell_type": "code",
   "execution_count": null,
   "outputs": [],
   "source": [],
   "metadata": {
    "collapsed": false
   }
  }
 ],
 "metadata": {
  "kernelspec": {
   "display_name": "Python 3",
   "language": "python",
   "name": "python3"
  },
  "language_info": {
   "codemirror_mode": {
    "name": "ipython",
    "version": 2
   },
   "file_extension": ".py",
   "mimetype": "text/x-python",
   "name": "python",
   "nbconvert_exporter": "python",
   "pygments_lexer": "ipython2",
   "version": "2.7.6"
  }
 },
 "nbformat": 4,
 "nbformat_minor": 0
}
