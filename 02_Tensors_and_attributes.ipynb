{
 "cells": [
  {
   "cell_type": "markdown",
   "source": [
    "# Tensors and Key Attributes\n",
    "### Author: Dr. Yves Staudt\n",
    "In diesem Notebook stellen wir die Tensoren in Python und deren Attribute dar. Die Ideen dieses Notebooks stammen aus dem Buch von Chollet (2019)"
   ],
   "metadata": {
    "collapsed": false
   }
  },
  {
   "cell_type": "markdown",
   "source": [
    "## Loading Packages"
   ],
   "metadata": {
    "collapsed": false
   }
  },
  {
   "cell_type": "code",
   "execution_count": 1,
   "metadata": {
    "collapsed": true
   },
   "outputs": [],
   "source": [
    "import pandas as pd\n",
    "import numpy as np\n",
    "import os\n",
    "import tensorflow as tf\n",
    "from tensorflow import keras"
   ]
  },
  {
   "cell_type": "markdown",
   "source": [
    "## 0D Tensor - Scalar"
   ],
   "metadata": {
    "collapsed": false
   }
  },
  {
   "cell_type": "markdown",
   "source": [
    "In einem ersten Schritt erstellen wir den Tensor mithilfe von numpy."
   ],
   "metadata": {
    "collapsed": false
   }
  },
  {
   "cell_type": "code",
   "execution_count": 2,
   "outputs": [
    {
     "data": {
      "text/plain": "array(12)"
     },
     "execution_count": 2,
     "metadata": {},
     "output_type": "execute_result"
    }
   ],
   "source": [
    "x = np.array(12)\n",
    "x"
   ],
   "metadata": {
    "collapsed": false
   }
  },
  {
   "cell_type": "markdown",
   "source": [
    "Mithilfe des folgenden Befehls können wir Anzahl der Axen number of axes) (des Skalars angeben"
   ],
   "metadata": {
    "collapsed": false
   }
  },
  {
   "cell_type": "code",
   "execution_count": 3,
   "outputs": [
    {
     "data": {
      "text/plain": "0"
     },
     "execution_count": 3,
     "metadata": {},
     "output_type": "execute_result"
    }
   ],
   "source": [
    "x.ndim"
   ],
   "metadata": {
    "collapsed": false
   }
  },
  {
   "cell_type": "markdown",
   "source": [
    "Wir beobachten, dass der Tensor 0 Achsen hat.\n",
    "Nun interessieren wir uns für die Form (shape) des Tensors"
   ],
   "metadata": {
    "collapsed": false
   }
  },
  {
   "cell_type": "code",
   "execution_count": 4,
   "outputs": [
    {
     "data": {
      "text/plain": "()"
     },
     "execution_count": 4,
     "metadata": {},
     "output_type": "execute_result"
    }
   ],
   "source": [
    "x.shape"
   ],
   "metadata": {
    "collapsed": false
   }
  },
  {
   "cell_type": "markdown",
   "source": [
    "Ein Skalar hat auch keine Dimensionen, wie hier mit der `shape` Funktion dargestellt.\n",
    "Die letzte Eigenschaft ist der Datentyp (data type):"
   ],
   "metadata": {
    "collapsed": false
   }
  },
  {
   "cell_type": "code",
   "execution_count": 5,
   "outputs": [
    {
     "data": {
      "text/plain": "dtype('int32')"
     },
     "execution_count": 5,
     "metadata": {},
     "output_type": "execute_result"
    }
   ],
   "source": [
    "x.dtype"
   ],
   "metadata": {
    "collapsed": false
   }
  },
  {
   "cell_type": "markdown",
   "source": [
    "Unser Skalar enthält eine ganze Zahl des Formats `int64`."
   ],
   "metadata": {
    "collapsed": false
   }
  },
  {
   "cell_type": "markdown",
   "source": [
    "## 1D Tensor - Vectors\n",
    "In einem ersten Schritt erstellen wir den 1D Tensor mit Numpy."
   ],
   "metadata": {
    "collapsed": false
   }
  },
  {
   "cell_type": "code",
   "execution_count": 6,
   "outputs": [],
   "source": [
    "y = np.array([12, 3, 6, 14])"
   ],
   "metadata": {
    "collapsed": false
   }
  },
  {
   "cell_type": "markdown",
   "source": [
    "In einem weiteren Schritt schauen wir die Eigenschaften des Tensors an.\n",
    "Zuerst starten wir mit den Achsen."
   ],
   "metadata": {
    "collapsed": false
   }
  },
  {
   "cell_type": "code",
   "execution_count": 26,
   "outputs": [
    {
     "data": {
      "text/plain": "array([12,  3,  6, 14])"
     },
     "execution_count": 26,
     "metadata": {},
     "output_type": "execute_result"
    }
   ],
   "source": [
    "y"
   ],
   "metadata": {
    "collapsed": false
   }
  },
  {
   "cell_type": "code",
   "execution_count": 7,
   "outputs": [
    {
     "data": {
      "text/plain": "1"
     },
     "execution_count": 7,
     "metadata": {},
     "output_type": "execute_result"
    }
   ],
   "source": [
    "y.ndim"
   ],
   "metadata": {
    "collapsed": false
   }
  },
  {
   "cell_type": "markdown",
   "source": [
    "Unser Vektor hat eine Achse.\n",
    "Die zweite Eigenschaft ist die Form."
   ],
   "metadata": {
    "collapsed": false
   }
  },
  {
   "cell_type": "code",
   "execution_count": 8,
   "outputs": [
    {
     "data": {
      "text/plain": "(4,)"
     },
     "execution_count": 8,
     "metadata": {},
     "output_type": "execute_result"
    }
   ],
   "source": [
    "y.shape"
   ],
   "metadata": {
    "collapsed": false
   }
  },
  {
   "cell_type": "markdown",
   "source": [
    "Unser Vektor besteht aus vier Einträgen.\n",
    "Die letzte Eigenschaft ist der Datentyp."
   ],
   "metadata": {
    "collapsed": false
   }
  },
  {
   "cell_type": "code",
   "execution_count": 27,
   "outputs": [
    {
     "data": {
      "text/plain": "dtype('int32')"
     },
     "execution_count": 27,
     "metadata": {},
     "output_type": "execute_result"
    }
   ],
   "source": [
    "x.dtype"
   ],
   "metadata": {
    "collapsed": false
   }
  },
  {
   "cell_type": "markdown",
   "source": [
    "Unser Vektor besteht aus ganzen Zahl des Formats `int64`."
   ],
   "metadata": {
    "collapsed": false
   }
  },
  {
   "cell_type": "markdown",
   "source": [
    "## 2D Tensor - Matrices\n",
    "In einem ersten Schritt erstellen wir die Matrix mithilfe von `numpy`."
   ],
   "metadata": {
    "collapsed": false
   }
  },
  {
   "cell_type": "code",
   "execution_count": 10,
   "outputs": [],
   "source": [
    "z = np.array([[5, 78, 2, 34, 0],\n",
    "              [6, 79, 3, 35, 1],\n",
    "              [7, 80, 4, 36, 2]])"
   ],
   "metadata": {
    "collapsed": false
   }
  },
  {
   "cell_type": "markdown",
   "source": [
    "Nun schauen wir uns die Eigenschaften der Matrix an.\n",
    "Wir starten mit den Achsen."
   ],
   "metadata": {
    "collapsed": false
   }
  },
  {
   "cell_type": "code",
   "execution_count": 28,
   "outputs": [
    {
     "data": {
      "text/plain": "array([[ 5, 78,  2, 34,  0],\n       [ 6, 79,  3, 35,  1],\n       [ 7, 80,  4, 36,  2]])"
     },
     "execution_count": 28,
     "metadata": {},
     "output_type": "execute_result"
    }
   ],
   "source": [
    "z"
   ],
   "metadata": {
    "collapsed": false
   }
  },
  {
   "cell_type": "code",
   "execution_count": 11,
   "outputs": [
    {
     "data": {
      "text/plain": "2"
     },
     "execution_count": 11,
     "metadata": {},
     "output_type": "execute_result"
    }
   ],
   "source": [
    "z.ndim"
   ],
   "metadata": {
    "collapsed": false
   }
  },
  {
   "cell_type": "markdown",
   "source": [
    "Unsere Matrix hat zwei Achsen, die Zeilen und Spalten.\n",
    "Nun schauen wir uns die Dimension der jeweiligen Achsen an."
   ],
   "metadata": {
    "collapsed": false
   }
  },
  {
   "cell_type": "code",
   "execution_count": 12,
   "outputs": [
    {
     "data": {
      "text/plain": "(3, 5)"
     },
     "execution_count": 12,
     "metadata": {},
     "output_type": "execute_result"
    }
   ],
   "source": [
    "z.shape"
   ],
   "metadata": {
    "collapsed": false
   }
  },
  {
   "cell_type": "markdown",
   "source": [
    "Unsere Matrix hat drei Zeilen und fünf Spalten.\n",
    "Das format der Matrix besteht aus ganzen Zahlen des Formats `int64` wie hier aufgezeigt."
   ],
   "metadata": {
    "collapsed": false
   }
  },
  {
   "cell_type": "code",
   "execution_count": 13,
   "outputs": [
    {
     "data": {
      "text/plain": "dtype('int32')"
     },
     "execution_count": 13,
     "metadata": {},
     "output_type": "execute_result"
    }
   ],
   "source": [
    "z.dtype"
   ],
   "metadata": {
    "collapsed": false
   }
  },
  {
   "cell_type": "markdown",
   "source": [
    "## 3D Tensor\n",
    "Wir erstellen nun eine 3D Tensor mithilfe von `numpy` indem wir die Matrix von oben in einen neuen `array` einbetten."
   ],
   "metadata": {
    "collapsed": false
   }
  },
  {
   "cell_type": "code",
   "execution_count": 14,
   "outputs": [],
   "source": [
    "t = np.array([[[5, 78, 2, 34, 0],\n",
    "              [6, 79, 3, 35, 1],\n",
    "              [7, 80, 4, 36, 2]],\n",
    "              [[5, 78, 2, 34, 0],\n",
    "              [6, 79, 3, 35, 1],\n",
    "              [7, 80, 4, 36, 2]],\n",
    "              [[5, 78, 2, 34, 0],\n",
    "              [6, 79, 3, 35, 1],\n",
    "              [7, 80, 4, 36, 2]]])"
   ],
   "metadata": {
    "collapsed": false
   }
  },
  {
   "cell_type": "markdown",
   "source": [
    "Nun schauen wir uns die Eigenschaften des 3D Tensor.\n",
    "Wir starten mit der Anzahl Achsen."
   ],
   "metadata": {
    "collapsed": false
   }
  },
  {
   "cell_type": "code",
   "execution_count": 29,
   "outputs": [
    {
     "data": {
      "text/plain": "array([[[ 5, 78,  2, 34,  0],\n        [ 6, 79,  3, 35,  1],\n        [ 7, 80,  4, 36,  2]],\n\n       [[ 5, 78,  2, 34,  0],\n        [ 6, 79,  3, 35,  1],\n        [ 7, 80,  4, 36,  2]],\n\n       [[ 5, 78,  2, 34,  0],\n        [ 6, 79,  3, 35,  1],\n        [ 7, 80,  4, 36,  2]]])"
     },
     "execution_count": 29,
     "metadata": {},
     "output_type": "execute_result"
    }
   ],
   "source": [
    "t"
   ],
   "metadata": {
    "collapsed": false
   }
  },
  {
   "cell_type": "code",
   "execution_count": 15,
   "outputs": [
    {
     "data": {
      "text/plain": "3"
     },
     "execution_count": 15,
     "metadata": {},
     "output_type": "execute_result"
    }
   ],
   "source": [
    "t.ndim"
   ],
   "metadata": {
    "collapsed": false
   }
  },
  {
   "cell_type": "markdown",
   "source": [
    "Unser 3D Tensor hat wie erwartet 3 Achsen.\n",
    "Nun schauen wir uns die Dimensionen der jeweiligen Achsen an."
   ],
   "metadata": {
    "collapsed": false
   }
  },
  {
   "cell_type": "code",
   "execution_count": 16,
   "outputs": [
    {
     "data": {
      "text/plain": "(3, 3, 5)"
     },
     "execution_count": 16,
     "metadata": {},
     "output_type": "execute_result"
    }
   ],
   "source": [
    "t.shape"
   ],
   "metadata": {
    "collapsed": false
   }
  },
  {
   "cell_type": "markdown",
   "source": [
    "Unser 3D Tensor hat 3 Proben (samples) mit einer Eigenschaft von 3 Zeilen und 5 Spalten.\n",
    "Der 3D Tensor besteht aus ganzen Zahlen mit dem Foramt `int64`."
   ],
   "metadata": {
    "collapsed": false
   }
  },
  {
   "cell_type": "code",
   "execution_count": 17,
   "outputs": [
    {
     "data": {
      "text/plain": "dtype('int32')"
     },
     "execution_count": 17,
     "metadata": {},
     "output_type": "execute_result"
    }
   ],
   "source": [
    "t.dtype"
   ],
   "metadata": {
    "collapsed": false
   }
  },
  {
   "cell_type": "markdown",
   "source": [
    "## MNIST Datensatz\n",
    "In diesem Abschnitt schauen wir uns an, wie die Formaten des bekannten MNIST Datensatzes sind.\n",
    "Zuerst laden wir die Daten."
   ],
   "metadata": {
    "collapsed": false
   }
  },
  {
   "cell_type": "code",
   "execution_count": 18,
   "outputs": [],
   "source": [
    "from keras.datasets import mnist\n",
    "# load dataset\n",
    "(x_train, y_train),(x_test, y_test) = mnist.load_data()"
   ],
   "metadata": {
    "collapsed": false
   }
  },
  {
   "cell_type": "code",
   "execution_count": 19,
   "outputs": [
    {
     "name": "stdout",
     "output_type": "stream",
     "text": [
      "Der Trainings Datensatz hat folgende Anzahl von Achsen: 3\n",
      "Der Test Datensatz hat folgende Anzahl von Achsen: 3\n",
      "Die Zielvarialbe des Training Datensatz hat folgende Anzahl von Achsen: 1\n",
      "Die Zielvarialbe des Training Datensatz hat folgende Anzahl von Achsen: 1\n"
     ]
    }
   ],
   "source": [
    "print(\"Der Trainings Datensatz hat folgende Anzahl von Achsen: {}\".format(x_train.ndim))\n",
    "print(\"Der Test Datensatz hat folgende Anzahl von Achsen: {}\".format(x_test.ndim))\n",
    "print(\"Die Zielvarialbe des Training Datensatz hat folgende Anzahl von Achsen: {}\".format(y_train.ndim))\n",
    "print(\"Die Zielvarialbe des Training Datensatz hat folgende Anzahl von Achsen: {}\".format(y_test.ndim))"
   ],
   "metadata": {
    "collapsed": false
   }
  },
  {
   "cell_type": "markdown",
   "source": [
    "Die Datensätze `x_train` und `x_test` sind 3D Tensoren, welches unser Erwartung von Bilder entspricht.\n",
    "Die Datensätze `y_train` und `y_test` welche unsere Zielvariablen enthalten, entsprechen wie erwartet einem Vektor."
   ],
   "metadata": {
    "collapsed": false
   }
  },
  {
   "cell_type": "markdown",
   "source": [
    "In eine weitern Schritt können wir uns noch die Dimensionen pro Achse und das Datenformat anschauen. Hier begrenzen wir uns auf dem Datensatz `x_train`."
   ],
   "metadata": {
    "collapsed": false
   }
  },
  {
   "cell_type": "code",
   "execution_count": 20,
   "outputs": [
    {
     "name": "stdout",
     "output_type": "stream",
     "text": [
      "Der Training Datensatz hat folgende Anzahl Dimensionen entlang der jeweiligen Achsen: (60000, 28, 28)\n",
      "Der Training Datensatz hat folgenden Datentyp: 3\n"
     ]
    }
   ],
   "source": [
    "print(\"Der Training Datensatz hat folgende Anzahl Dimensionen entlang der jeweiligen Achsen: {}\".format(x_train.shape))\n",
    "print(\"Der Training Datensatz hat folgenden Datentyp: {}\".format(x_train.ndim))"
   ],
   "metadata": {
    "collapsed": false
   }
  },
  {
   "cell_type": "markdown",
   "source": [
    "## Tensors Manipulating\n",
    "Spezifische Elemente in einem Tensor auszuwählen heisst auf Englisch \"tensor slicing\".\n",
    "In dem folgenden Coden wollen wir die Zahlenproben 10 bis 1000 auswählen und sie in einem `array` speichern."
   ],
   "metadata": {
    "collapsed": false
   }
  },
  {
   "cell_type": "code",
   "execution_count": 21,
   "outputs": [
    {
     "name": "stdout",
     "output_type": "stream",
     "text": [
      "Die Dimensionen entlang der Achsen der Auslese ist: (90, 28, 28)\n"
     ]
    }
   ],
   "source": [
    "my_slice = x_train[10:100] #tensor slicing\n",
    "print(\"Die Dimensionen entlang der Achsen der Auslese ist: {}\".format(my_slice.shape))"
   ],
   "metadata": {
    "collapsed": false
   }
  },
  {
   "cell_type": "markdown",
   "source": [
    "Folgende beide Befehle mit genaueren Angaben ergeben das gleiche Resultat."
   ],
   "metadata": {
    "collapsed": false
   }
  },
  {
   "cell_type": "code",
   "execution_count": 22,
   "outputs": [
    {
     "name": "stdout",
     "output_type": "stream",
     "text": [
      "Die Dimensionen entlang der Achsen der Auslese ist: (90, 28, 28)\n"
     ]
    }
   ],
   "source": [
    "my_slice = x_train[10:100, : , : ]\n",
    "print(\"Die Dimensionen entlang der Achsen der Auslese ist: {}\".format(my_slice.shape))"
   ],
   "metadata": {
    "collapsed": false
   }
  },
  {
   "cell_type": "code",
   "execution_count": 23,
   "outputs": [
    {
     "name": "stdout",
     "output_type": "stream",
     "text": [
      "Die Dimensionen entlang der Achsen der Auslese ist: (90, 28, 28)\n"
     ]
    }
   ],
   "source": [
    "my_slice = x_train[10:100, 0:28, 0:28]\n",
    "print(\"Die Dimensionen entlang der Achsen der Auslese ist: {}\".format(my_slice.shape))"
   ],
   "metadata": {
    "collapsed": false
   }
  },
  {
   "cell_type": "markdown",
   "source": [
    "Auslesen sind nicht nur möglich entlang der ersten Achse, sondern auch entlang der anderen. Ich kann zum Beispiel auch für meine Bilder nur 14x14 Pixel auswählen. Hier sind zwei Beispiel welche solche Reusltaten generieren."
   ],
   "metadata": {
    "collapsed": false
   }
  },
  {
   "cell_type": "code",
   "execution_count": 24,
   "outputs": [
    {
     "name": "stdout",
     "output_type": "stream",
     "text": [
      "Die Dimensionen entlang der Achsen der Auslese ist: (60000, 14, 14)\n"
     ]
    }
   ],
   "source": [
    "my_slice = x_train[: , 14: , 14: ]\n",
    "print(\"Die Dimensionen entlang der Achsen der Auslese ist: {}\".format(my_slice.shape))"
   ],
   "metadata": {
    "collapsed": false
   }
  },
  {
   "cell_type": "code",
   "execution_count": 25,
   "outputs": [
    {
     "name": "stdout",
     "output_type": "stream",
     "text": [
      "Die Dimensionen entlang der Achsen der Auslese ist: (60000, 14, 14)\n"
     ]
    }
   ],
   "source": [
    "my_slice = x_train[: , 7:-7 , 7:-7 ]\n",
    "print(\"Die Dimensionen entlang der Achsen der Auslese ist: {}\".format(my_slice.shape))"
   ],
   "metadata": {
    "collapsed": false
   }
  },
  {
   "cell_type": "markdown",
   "source": [
    "## References\n",
    "- Francois Chollet (2018), Deep Learning with Keras, Manning."
   ],
   "metadata": {
    "collapsed": false
   }
  }
 ],
 "metadata": {
  "kernelspec": {
   "display_name": "Python 3",
   "language": "python",
   "name": "python3"
  },
  "language_info": {
   "codemirror_mode": {
    "name": "ipython",
    "version": 2
   },
   "file_extension": ".py",
   "mimetype": "text/x-python",
   "name": "python",
   "nbconvert_exporter": "python",
   "pygments_lexer": "ipython2",
   "version": "2.7.6"
  }
 },
 "nbformat": 4,
 "nbformat_minor": 0
}
