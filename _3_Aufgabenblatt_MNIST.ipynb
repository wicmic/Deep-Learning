{
 "cells": [
  {
   "cell_type": "markdown",
   "source": [
    "# Aufgabe 3: MNIST Modell"
   ],
   "metadata": {
    "collapsed": false
   }
  },
  {
   "cell_type": "markdown",
   "source": [
    "## LOADING PACKAGES"
   ],
   "metadata": {
    "collapsed": false
   }
  },
  {
   "cell_type": "code",
   "execution_count": 4,
   "outputs": [
    {
     "data": {
      "text/plain": "'module://matplotlib_inline.backend_inline'"
     },
     "execution_count": 4,
     "metadata": {},
     "output_type": "execute_result"
    }
   ],
   "source": [
    "import pandas as pd\n",
    "import numpy as np\n",
    "import os\n",
    "import tensorflow as tf\n",
    "from tensorflow import keras\n",
    "\n",
    "import matplotlib\n",
    "import matplotlib.pyplot as plt # plotting library\n",
    "\n",
    "\n",
    "%matplotlib inline\n",
    "matplotlib.get_backend()"
   ],
   "metadata": {
    "collapsed": false
   }
  },
  {
   "cell_type": "markdown",
   "source": [
    "## Datenimport und Aufbereitung"
   ],
   "metadata": {
    "collapsed": false
   }
  },
  {
   "cell_type": "code",
   "execution_count": 5,
   "outputs": [],
   "source": [
    "from keras.datasets import mnist\n",
    "\n",
    "# load dataset\n",
    "(x_train, y_train),(x_test, y_test) = mnist.load_data()\n",
    "\n",
    "# reshape data: Inputlayer muss eine Liste sein\n",
    "x_train = x_train.reshape((60000,28*28)) # 60'000 Bilder mit 28x28 Pixel\n",
    "x_test = x_test.reshape((10000,28*28))\n",
    "\n",
    "# skalieren der Daten\n",
    "x_train = x_train.astype('float32')/255\n",
    "x_test = x_test.astype('float32')/255\n",
    "\n",
    "#one hot encoding\n",
    "y_train = keras.utils.to_categorical(y_train)\n",
    "y_test = keras.utils.to_categorical(y_test)"
   ],
   "metadata": {
    "collapsed": false
   }
  },
  {
   "cell_type": "markdown",
   "source": [
    "### Modell 1:\n"
   ],
   "metadata": {
    "collapsed": false
   }
  },
  {
   "cell_type": "code",
   "execution_count": 6,
   "outputs": [
    {
     "name": "stdout",
     "output_type": "stream",
     "text": [
      "Epoch 1/20\n",
      "1688/1688 [==============================] - 9s 5ms/step - loss: 0.2776 - accuracy: 0.9165 - val_loss: 0.1222 - val_accuracy: 0.9625\n",
      "Epoch 2/20\n",
      "1688/1688 [==============================] - 8s 5ms/step - loss: 0.0999 - accuracy: 0.9705 - val_loss: 0.0853 - val_accuracy: 0.9748\n",
      "Epoch 3/20\n",
      "1688/1688 [==============================] - 15s 9ms/step - loss: 0.0662 - accuracy: 0.9804 - val_loss: 0.0838 - val_accuracy: 0.9753\n",
      "Epoch 4/20\n",
      "1688/1688 [==============================] - 18s 11ms/step - loss: 0.0458 - accuracy: 0.9859 - val_loss: 0.0730 - val_accuracy: 0.9813\n",
      "Epoch 5/20\n",
      "1688/1688 [==============================] - 10s 6ms/step - loss: 0.0348 - accuracy: 0.9889 - val_loss: 0.0702 - val_accuracy: 0.9803\n",
      "Epoch 6/20\n",
      "1688/1688 [==============================] - 7s 4ms/step - loss: 0.0262 - accuracy: 0.9916 - val_loss: 0.0762 - val_accuracy: 0.9808\n",
      "Epoch 7/20\n",
      "1688/1688 [==============================] - 8s 5ms/step - loss: 0.0232 - accuracy: 0.9926 - val_loss: 0.0818 - val_accuracy: 0.9785\n",
      "Epoch 8/20\n",
      "1688/1688 [==============================] - 8s 4ms/step - loss: 0.0182 - accuracy: 0.9936 - val_loss: 0.0832 - val_accuracy: 0.9812\n",
      "Epoch 9/20\n",
      "1688/1688 [==============================] - 8s 4ms/step - loss: 0.0155 - accuracy: 0.9950 - val_loss: 0.0785 - val_accuracy: 0.9832\n",
      "Epoch 10/20\n",
      "1688/1688 [==============================] - 8s 5ms/step - loss: 0.0134 - accuracy: 0.9952 - val_loss: 0.0913 - val_accuracy: 0.9798\n",
      "Epoch 11/20\n",
      "1688/1688 [==============================] - 8s 5ms/step - loss: 0.0121 - accuracy: 0.9959 - val_loss: 0.0920 - val_accuracy: 0.9797\n",
      "Epoch 12/20\n",
      "1688/1688 [==============================] - 8s 5ms/step - loss: 0.0113 - accuracy: 0.9958 - val_loss: 0.1037 - val_accuracy: 0.9805\n",
      "Epoch 13/20\n",
      "1688/1688 [==============================] - 8s 5ms/step - loss: 0.0114 - accuracy: 0.9962 - val_loss: 0.1135 - val_accuracy: 0.9790\n",
      "Epoch 14/20\n",
      "1688/1688 [==============================] - 8s 5ms/step - loss: 0.0087 - accuracy: 0.9973 - val_loss: 0.1153 - val_accuracy: 0.9780\n",
      "Epoch 15/20\n",
      "1688/1688 [==============================] - 8s 5ms/step - loss: 0.0094 - accuracy: 0.9968 - val_loss: 0.1076 - val_accuracy: 0.9808\n",
      "Epoch 16/20\n",
      "1688/1688 [==============================] - 8s 5ms/step - loss: 0.0092 - accuracy: 0.9968 - val_loss: 0.1067 - val_accuracy: 0.9815\n",
      "Epoch 17/20\n",
      "1688/1688 [==============================] - 8s 5ms/step - loss: 0.0061 - accuracy: 0.9982 - val_loss: 0.1094 - val_accuracy: 0.9800\n",
      "Epoch 18/20\n",
      "1688/1688 [==============================] - 8s 5ms/step - loss: 0.0101 - accuracy: 0.9969 - val_loss: 0.1031 - val_accuracy: 0.9820\n",
      "Epoch 19/20\n",
      "1688/1688 [==============================] - 8s 5ms/step - loss: 0.0053 - accuracy: 0.9983 - val_loss: 0.1164 - val_accuracy: 0.9815\n",
      "Epoch 20/20\n",
      "1688/1688 [==============================] - 8s 5ms/step - loss: 0.0074 - accuracy: 0.9976 - val_loss: 0.1345 - val_accuracy: 0.9803\n"
     ]
    }
   ],
   "source": [
    "# Modell-Struktur\n",
    "model = tf.keras.models.Sequential()\n",
    "\n",
    "model.add(tf.keras.layers.Dense(512, activation='relu', input_shape=(28*28,)))\n",
    "model.add(tf.keras.layers.Dense(8, activation='relu'))\n",
    "model.add(tf.keras.layers.Dense(10, activation='softmax'))\n",
    "\n",
    "\n",
    "# Modell kompilieren / zusammenstellen\n",
    "model.compile(loss='categorical_crossentropy',\n",
    "              optimizer='adam',\n",
    "              metrics=['accuracy'])\n",
    "\n",
    "# Modell trainieren inkl. Validation Split\n",
    "history = model.fit(x_train, y_train,\n",
    "                    epochs=20,\n",
    "                    batch_size=32,             # Default: 32\n",
    "                    validation_split =0.1)\n",
    "\n"
   ],
   "metadata": {
    "collapsed": false
   }
  },
  {
   "cell_type": "code",
   "execution_count": 7,
   "outputs": [
    {
     "name": "stdout",
     "output_type": "stream",
     "text": [
      "Model: \"sequential_1\"\n",
      "_________________________________________________________________\n",
      " Layer (type)                Output Shape              Param #   \n",
      "=================================================================\n",
      " dense_3 (Dense)             (None, 512)               401920    \n",
      "                                                                 \n",
      " dense_4 (Dense)             (None, 8)                 4104      \n",
      "                                                                 \n",
      " dense_5 (Dense)             (None, 10)                90        \n",
      "                                                                 \n",
      "=================================================================\n",
      "Total params: 406,114\n",
      "Trainable params: 406,114\n",
      "Non-trainable params: 0\n",
      "_________________________________________________________________\n"
     ]
    }
   ],
   "source": [
    "model.summary()"
   ],
   "metadata": {
    "collapsed": false
   }
  },
  {
   "cell_type": "code",
   "execution_count": 8,
   "outputs": [
    {
     "name": "stdout",
     "output_type": "stream",
     "text": [
      "\n",
      "Accuracy during Training :\n",
      "------------------------------------\n"
     ]
    },
    {
     "data": {
      "text/plain": "<Figure size 800x500 with 1 Axes>",
      "image/png": "[encoded data removed]"
     },
     "metadata": {},
     "output_type": "display_data"
    },
    {
     "name": "stdout",
     "output_type": "stream",
     "text": [
      "\n",
      "Evaluation against Test Dataset :\n",
      "------------------------------------\n",
      "313/313 [==============================] - 0s 1ms/step - loss: 0.1504 - accuracy: 0.9749\n"
     ]
    },
    {
     "data": {
      "text/plain": "[0.15035386383533478, 0.9749000072479248]"
     },
     "execution_count": 8,
     "metadata": {},
     "output_type": "execute_result"
    }
   ],
   "source": [
    "print(\"\\nAccuracy during Training :\\n------------------------------------\")\n",
    "\n",
    "#Plot accuracy of the model after each epoch.\n",
    "pd.DataFrame(history.history)[\"accuracy\"].plot(figsize=(8, 5))\n",
    "plt.title(\"Accuracy improvements with Epoch\")\n",
    "plt.show()\n",
    "\n",
    "\n",
    "#Evaluate the model against the test dataset and print results\n",
    "print(\"\\nEvaluation against Test Dataset :\\n------------------------------------\")\n",
    "model.evaluate(x_test,y_test)"
   ],
   "metadata": {
    "collapsed": false
   }
  },
  {
   "cell_type": "markdown",
   "source": [
    "### Modell 2:\n"
   ],
   "metadata": {
    "collapsed": false
   }
  },
  {
   "cell_type": "code",
   "execution_count": 9,
   "outputs": [],
   "source": [
    "# Modell-Struktur\n",
    "model = tf.keras.models.Sequential()\n",
    "\n",
    "model.add(tf.keras.layers.Dense(392, activation='relu', input_shape=(28*28,)))\n",
    "model.add(tf.keras.layers.Dense(196, activation='relu'))\n",
    "model.add(tf.keras.layers.Dense(98, activation='relu'))\n",
    "model.add(tf.keras.layers.Dense(48, activation='relu'))\n",
    "model.add(tf.keras.layers.Dense(10, activation='softmax'))\n",
    "\n",
    "\n",
    "# Modell kompilieren / zusammenstellen\n",
    "model.compile(loss='categorical_crossentropy',\n",
    "              optimizer='adam',\n",
    "              metrics=['accuracy'])"
   ],
   "metadata": {
    "collapsed": false
   }
  },
  {
   "cell_type": "code",
   "execution_count": 10,
   "outputs": [
    {
     "name": "stdout",
     "output_type": "stream",
     "text": [
      "Epoch 1/10\n",
      "422/422 [==============================] - 4s 7ms/step - loss: 0.2802 - accuracy: 0.9153 - val_loss: 0.0957 - val_accuracy: 0.9723\n",
      "Epoch 2/10\n",
      "422/422 [==============================] - 3s 6ms/step - loss: 0.0998 - accuracy: 0.9696 - val_loss: 0.0894 - val_accuracy: 0.9723\n",
      "Epoch 3/10\n",
      "422/422 [==============================] - 3s 6ms/step - loss: 0.0648 - accuracy: 0.9799 - val_loss: 0.0737 - val_accuracy: 0.9787\n",
      "Epoch 4/10\n",
      "422/422 [==============================] - 3s 6ms/step - loss: 0.0476 - accuracy: 0.9848 - val_loss: 0.0597 - val_accuracy: 0.9830\n",
      "Epoch 5/10\n",
      "422/422 [==============================] - 2s 6ms/step - loss: 0.0357 - accuracy: 0.9887 - val_loss: 0.0773 - val_accuracy: 0.9782\n",
      "Epoch 6/10\n",
      "422/422 [==============================] - 2s 6ms/step - loss: 0.0293 - accuracy: 0.9902 - val_loss: 0.0756 - val_accuracy: 0.9793\n",
      "Epoch 7/10\n",
      "422/422 [==============================] - 3s 6ms/step - loss: 0.0267 - accuracy: 0.9912 - val_loss: 0.0668 - val_accuracy: 0.9820\n",
      "Epoch 8/10\n",
      "422/422 [==============================] - 2s 6ms/step - loss: 0.0224 - accuracy: 0.9928 - val_loss: 0.0965 - val_accuracy: 0.9783\n",
      "Epoch 9/10\n",
      "422/422 [==============================] - 2s 6ms/step - loss: 0.0204 - accuracy: 0.9935 - val_loss: 0.0707 - val_accuracy: 0.9827\n",
      "Epoch 10/10\n",
      "422/422 [==============================] - 2s 6ms/step - loss: 0.0160 - accuracy: 0.9943 - val_loss: 0.0752 - val_accuracy: 0.9822\n"
     ]
    }
   ],
   "source": [
    "# Modell trainieren inkl. Validation Split\n",
    "history = model.fit(x_train, y_train,\n",
    "                    epochs=10,\n",
    "                    batch_size=128,\n",
    "                    validation_split =0.1)"
   ],
   "metadata": {
    "collapsed": false
   }
  },
  {
   "cell_type": "code",
   "execution_count": 11,
   "outputs": [
    {
     "name": "stdout",
     "output_type": "stream",
     "text": [
      "Model: \"sequential_2\"\n",
      "_________________________________________________________________\n",
      " Layer (type)                Output Shape              Param #   \n",
      "=================================================================\n",
      " dense_6 (Dense)             (None, 392)               307720    \n",
      "                                                                 \n",
      " dense_7 (Dense)             (None, 196)               77028     \n",
      "                                                                 \n",
      " dense_8 (Dense)             (None, 98)                19306     \n",
      "                                                                 \n",
      " dense_9 (Dense)             (None, 48)                4752      \n",
      "                                                                 \n",
      " dense_10 (Dense)            (None, 10)                490       \n",
      "                                                                 \n",
      "=================================================================\n",
      "Total params: 409,296\n",
      "Trainable params: 409,296\n",
      "Non-trainable params: 0\n",
      "_________________________________________________________________\n"
     ]
    }
   ],
   "source": [
    "model.summary()"
   ],
   "metadata": {
    "collapsed": false
   }
  },
  {
   "cell_type": "code",
   "execution_count": 12,
   "outputs": [
    {
     "name": "stdout",
     "output_type": "stream",
     "text": [
      "\n",
      "Accuracy during Training :\n",
      "------------------------------------\n"
     ]
    },
    {
     "data": {
      "text/plain": "<Figure size 800x500 with 1 Axes>",
      "image/png": "[encoded data removed]"
     },
     "metadata": {},
     "output_type": "display_data"
    },
    {
     "name": "stdout",
     "output_type": "stream",
     "text": [
      "\n",
      "Evaluation against Test Dataset :\n",
      "------------------------------------\n",
      "313/313 [==============================] - 1s 2ms/step - loss: 0.0895 - accuracy: 0.9799\n"
     ]
    },
    {
     "data": {
      "text/plain": "[0.08949261903762817, 0.9799000024795532]"
     },
     "execution_count": 12,
     "metadata": {},
     "output_type": "execute_result"
    }
   ],
   "source": [
    "print(\"\\nAccuracy during Training :\\n------------------------------------\")\n",
    "\n",
    "#Plot accuracy of the model after each epoch.\n",
    "pd.DataFrame(history.history)[\"accuracy\"].plot(figsize=(8, 5))\n",
    "plt.title(\"Accuracy improvements with Epoch\")\n",
    "plt.show()\n",
    "\n",
    "\n",
    "#Evaluate the model against the test dataset and print results\n",
    "print(\"\\nEvaluation against Test Dataset :\\n------------------------------------\")\n",
    "model.evaluate(x_test,y_test)"
   ],
   "metadata": {
    "collapsed": false
   }
  },
  {
   "cell_type": "markdown",
   "source": [
    "### Modell 3:"
   ],
   "metadata": {
    "collapsed": false
   }
  },
  {
   "cell_type": "code",
   "execution_count": 13,
   "outputs": [],
   "source": [
    "# Modell-Struktur\n",
    "model = tf.keras.models.Sequential()\n",
    "\n",
    "model.add(tf.keras.layers.Dense(392, activation='relu', input_shape=(28*28,), kernel_initializer='ones', kernel_regularizer=tf.keras.regularizers.L1(0.01)))\n",
    "model.add(tf.keras.layers.Dense(98, activation='relu'))\n",
    "model.add(tf.keras.layers.Dense(10, activation='softmax'))\n",
    "\n",
    "\n",
    "# Modell kompilieren / zusammenstellen\n",
    "model.compile(loss='categorical_crossentropy',\n",
    "              optimizer='adam',\n",
    "              metrics=['accuracy'])"
   ],
   "metadata": {
    "collapsed": false
   }
  },
  {
   "cell_type": "code",
   "execution_count": 14,
   "outputs": [
    {
     "name": "stdout",
     "output_type": "stream",
     "text": [
      "Epoch 1/20\n",
      "422/422 [==============================] - 3s 6ms/step - loss: 2491.3799 - accuracy: 0.4184 - val_loss: 1875.3462 - val_accuracy: 0.5972\n",
      "Epoch 2/20\n",
      "422/422 [==============================] - 2s 5ms/step - loss: 1250.9619 - accuracy: 0.6820 - val_loss: 619.1076 - val_accuracy: 0.7880\n",
      "Epoch 3/20\n",
      "422/422 [==============================] - 2s 5ms/step - loss: 176.0208 - accuracy: 0.7389 - val_loss: 7.1918 - val_accuracy: 0.6467\n",
      "Epoch 4/20\n",
      "422/422 [==============================] - 2s 5ms/step - loss: 2.6536 - accuracy: 0.7015 - val_loss: 1.4706 - val_accuracy: 0.8525\n",
      "Epoch 5/20\n",
      "422/422 [==============================] - 2s 6ms/step - loss: 1.4842 - accuracy: 0.8303 - val_loss: 1.3761 - val_accuracy: 0.8767\n",
      "Epoch 6/20\n",
      "422/422 [==============================] - 2s 6ms/step - loss: 1.3480 - accuracy: 0.8502 - val_loss: 1.2061 - val_accuracy: 0.8860\n",
      "Epoch 7/20\n",
      "422/422 [==============================] - 2s 5ms/step - loss: 1.2814 - accuracy: 0.8601 - val_loss: 1.1552 - val_accuracy: 0.8903\n",
      "Epoch 8/20\n",
      "422/422 [==============================] - 2s 6ms/step - loss: 1.2419 - accuracy: 0.8633 - val_loss: 1.2262 - val_accuracy: 0.8947\n",
      "Epoch 9/20\n",
      "422/422 [==============================] - 2s 6ms/step - loss: 1.2008 - accuracy: 0.8717 - val_loss: 1.1132 - val_accuracy: 0.8977\n",
      "Epoch 10/20\n",
      "422/422 [==============================] - 3s 6ms/step - loss: 1.1798 - accuracy: 0.8732 - val_loss: 1.0980 - val_accuracy: 0.8818\n",
      "Epoch 11/20\n",
      "422/422 [==============================] - 3s 7ms/step - loss: 1.1593 - accuracy: 0.8767 - val_loss: 1.1449 - val_accuracy: 0.9000\n",
      "Epoch 12/20\n",
      "422/422 [==============================] - 4s 8ms/step - loss: 1.1372 - accuracy: 0.8806 - val_loss: 1.0537 - val_accuracy: 0.8993\n",
      "Epoch 13/20\n",
      "422/422 [==============================] - 5s 12ms/step - loss: 1.1239 - accuracy: 0.8827 - val_loss: 1.0390 - val_accuracy: 0.8978\n",
      "Epoch 14/20\n",
      "422/422 [==============================] - 5s 12ms/step - loss: 1.1203 - accuracy: 0.8824 - val_loss: 1.1430 - val_accuracy: 0.9038\n",
      "Epoch 15/20\n",
      "422/422 [==============================] - 5s 13ms/step - loss: 1.1009 - accuracy: 0.8876 - val_loss: 1.0336 - val_accuracy: 0.8992\n",
      "Epoch 16/20\n",
      "422/422 [==============================] - 4s 10ms/step - loss: 1.0905 - accuracy: 0.8881 - val_loss: 0.9838 - val_accuracy: 0.9100\n",
      "Epoch 17/20\n",
      "422/422 [==============================] - 5s 12ms/step - loss: 1.0872 - accuracy: 0.8892 - val_loss: 1.0669 - val_accuracy: 0.9140\n",
      "Epoch 18/20\n",
      "422/422 [==============================] - 5s 12ms/step - loss: 1.0745 - accuracy: 0.8916 - val_loss: 0.9826 - val_accuracy: 0.9107\n",
      "Epoch 19/20\n",
      "422/422 [==============================] - 5s 13ms/step - loss: 1.0702 - accuracy: 0.8915 - val_loss: 0.9662 - val_accuracy: 0.9180\n",
      "Epoch 20/20\n",
      "422/422 [==============================] - 5s 12ms/step - loss: 1.0572 - accuracy: 0.8948 - val_loss: 1.1212 - val_accuracy: 0.9025\n"
     ]
    }
   ],
   "source": [
    "# Modell trainieren inkl. Validation Split\n",
    "history = model.fit(x_train, y_train,\n",
    "                    epochs=20,\n",
    "                    batch_size=128,\n",
    "                    validation_split =0.1)"
   ],
   "metadata": {
    "collapsed": false
   }
  },
  {
   "cell_type": "code",
   "execution_count": 15,
   "outputs": [
    {
     "name": "stdout",
     "output_type": "stream",
     "text": [
      "Model: \"sequential_3\"\n",
      "_________________________________________________________________\n",
      " Layer (type)                Output Shape              Param #   \n",
      "=================================================================\n",
      " dense_11 (Dense)            (None, 392)               307720    \n",
      "                                                                 \n",
      " dense_12 (Dense)            (None, 98)                38514     \n",
      "                                                                 \n",
      " dense_13 (Dense)            (None, 10)                990       \n",
      "                                                                 \n",
      "=================================================================\n",
      "Total params: 347,224\n",
      "Trainable params: 347,224\n",
      "Non-trainable params: 0\n",
      "_________________________________________________________________\n"
     ]
    }
   ],
   "source": [
    "model.summary()"
   ],
   "metadata": {
    "collapsed": false
   }
  },
  {
   "cell_type": "code",
   "execution_count": 16,
   "outputs": [
    {
     "name": "stdout",
     "output_type": "stream",
     "text": [
      "\n",
      "Accuracy during Training :\n",
      "------------------------------------\n"
     ]
    },
    {
     "data": {
      "text/plain": "<Figure size 800x500 with 1 Axes>",
      "image/png": "[encoded data removed]"
     },
     "metadata": {},
     "output_type": "display_data"
    },
    {
     "name": "stdout",
     "output_type": "stream",
     "text": [
      "\n",
      "Evaluation against Test Dataset :\n",
      "------------------------------------\n",
      "313/313 [==============================] - 1s 4ms/step - loss: 1.1519 - accuracy: 0.8909\n"
     ]
    },
    {
     "data": {
      "text/plain": "[1.1519440412521362, 0.8909000158309937]"
     },
     "execution_count": 16,
     "metadata": {},
     "output_type": "execute_result"
    }
   ],
   "source": [
    "print(\"\\nAccuracy during Training :\\n------------------------------------\")\n",
    "\n",
    "#Plot accuracy of the model after each epoch.\n",
    "pd.DataFrame(history.history)[\"accuracy\"].plot(figsize=(8, 5))\n",
    "plt.title(\"Accuracy improvements with Epoch\")\n",
    "plt.show()\n",
    "\n",
    "\n",
    "#Evaluate the model against the test dataset and print results\n",
    "print(\"\\nEvaluation against Test Dataset :\\n------------------------------------\")\n",
    "model.evaluate(x_test,y_test)"
   ],
   "metadata": {
    "collapsed": false
   }
  }
 ],
 "metadata": {
  "kernelspec": {
   "display_name": "Python 3",
   "language": "python",
   "name": "python3"
  },
  "language_info": {
   "codemirror_mode": {
    "name": "ipython",
    "version": 2
   },
   "file_extension": ".py",
   "mimetype": "text/x-python",
   "name": "python",
   "nbconvert_exporter": "python",
   "pygments_lexer": "ipython2",
   "version": "2.7.6"
  }
 },
 "nbformat": 4,
 "nbformat_minor": 0
}
